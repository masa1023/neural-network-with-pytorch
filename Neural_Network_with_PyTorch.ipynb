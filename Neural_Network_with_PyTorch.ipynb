{
  "nbformat": 4,
  "nbformat_minor": 0,
  "metadata": {
    "colab": {
      "provenance": [],
      "gpuType": "T4",
      "authorship_tag": "ABX9TyP3V7zryqgNbJqNMfn3Zi8g",
      "include_colab_link": true
    },
    "kernelspec": {
      "name": "python3",
      "display_name": "Python 3"
    },
    "language_info": {
      "name": "python"
    },
    "accelerator": "GPU"
  },
  "cells": [
    {
      "cell_type": "markdown",
      "metadata": {
        "id": "view-in-github",
        "colab_type": "text"
      },
      "source": [
        "<a href=\"https://colab.research.google.com/github/masa1023/neural-network-with-pytorch/blob/main/Neural_Network_with_PyTorch.ipynb\" target=\"_parent\"><img src=\"https://colab.research.google.com/assets/colab-badge.svg\" alt=\"Open In Colab\"/></a>"
      ]
    },
    {
      "cell_type": "markdown",
      "source": [
        "### 1. 環境構築"
      ],
      "metadata": {
        "id": "NeQ5MVuMai4K"
      }
    },
    {
      "cell_type": "code",
      "execution_count": null,
      "metadata": {
        "id": "0AtdlKXnW2sq"
      },
      "outputs": [],
      "source": [
        "import torch"
      ]
    },
    {
      "cell_type": "code",
      "source": [
        "torch.__version__"
      ],
      "metadata": {
        "colab": {
          "base_uri": "https://localhost:8080/",
          "height": 35
        },
        "id": "d6AZRFVZXYSe",
        "outputId": "672df9ee-51b1-446b-c74a-f2d87ec64665"
      },
      "execution_count": null,
      "outputs": [
        {
          "output_type": "execute_result",
          "data": {
            "text/plain": [
              "'2.6.0+cu124'"
            ],
            "application/vnd.google.colaboratory.intrinsic+json": {
              "type": "string"
            }
          },
          "metadata": {},
          "execution_count": 2
        }
      ]
    },
    {
      "cell_type": "code",
      "source": [
        "torch.cuda.get_device_name(0)"
      ],
      "metadata": {
        "colab": {
          "base_uri": "https://localhost:8080/",
          "height": 35
        },
        "id": "V_BNIHz_XoFE",
        "outputId": "08c56b94-82b4-4a77-f7ab-fa71fa5c9b76"
      },
      "execution_count": null,
      "outputs": [
        {
          "output_type": "execute_result",
          "data": {
            "text/plain": [
              "'Tesla T4'"
            ],
            "application/vnd.google.colaboratory.intrinsic+json": {
              "type": "string"
            }
          },
          "metadata": {},
          "execution_count": 3
        }
      ]
    },
    {
      "cell_type": "markdown",
      "source": [
        "### 2. ネットワークの定義"
      ],
      "metadata": {
        "id": "K-a--BrKayCI"
      }
    },
    {
      "cell_type": "code",
      "source": [
        "import torch.nn as nn"
      ],
      "metadata": {
        "id": "jHHnhr7Saii6"
      },
      "execution_count": null,
      "outputs": []
    },
    {
      "cell_type": "code",
      "source": [
        "# 3ノード → 2ノードの全結合層（fully-connected layer）\n",
        "fc = nn.Linear(3, 2)\n",
        "fc\n"
      ],
      "metadata": {
        "colab": {
          "base_uri": "https://localhost:8080/"
        },
        "id": "P1Vrn9txahtu",
        "outputId": "2ddad08d-56fa-47c5-9af9-e941743894c6"
      },
      "execution_count": null,
      "outputs": [
        {
          "output_type": "execute_result",
          "data": {
            "text/plain": [
              "Linear(in_features=3, out_features=2, bias=True)"
            ]
          },
          "metadata": {},
          "execution_count": 5
        }
      ]
    },
    {
      "cell_type": "code",
      "source": [
        "# 重み\n",
        "fc.weight"
      ],
      "metadata": {
        "colab": {
          "base_uri": "https://localhost:8080/"
        },
        "id": "iuYQ64aAbamn",
        "outputId": "a72a9de6-5e9c-4e49-cea5-8daf72220b95"
      },
      "execution_count": null,
      "outputs": [
        {
          "output_type": "execute_result",
          "data": {
            "text/plain": [
              "Parameter containing:\n",
              "tensor([[-0.4153,  0.2511, -0.5048],\n",
              "        [ 0.4057, -0.0306, -0.2705]], requires_grad=True)"
            ]
          },
          "metadata": {},
          "execution_count": 6
        }
      ]
    },
    {
      "cell_type": "code",
      "source": [
        "# バイアス\n",
        "fc.bias"
      ],
      "metadata": {
        "colab": {
          "base_uri": "https://localhost:8080/"
        },
        "id": "aICr6UR7bo4m",
        "outputId": "6baaf34f-69b7-4a94-e18f-464642ee2c9b"
      },
      "execution_count": null,
      "outputs": [
        {
          "output_type": "execute_result",
          "data": {
            "text/plain": [
              "Parameter containing:\n",
              "tensor([-0.1155, -0.0279], requires_grad=True)"
            ]
          },
          "metadata": {},
          "execution_count": 7
        }
      ]
    },
    {
      "cell_type": "code",
      "source": [
        "# 乱数のシードを固定\n",
        "torch.manual_seed(0)"
      ],
      "metadata": {
        "colab": {
          "base_uri": "https://localhost:8080/"
        },
        "id": "d3pmsTsebxTA",
        "outputId": "0f421412-b477-4571-c266-38c80b2ebde4"
      },
      "execution_count": null,
      "outputs": [
        {
          "output_type": "execute_result",
          "data": {
            "text/plain": [
              "<torch._C.Generator at 0x7ba29cc55b10>"
            ]
          },
          "metadata": {},
          "execution_count": 8
        }
      ]
    },
    {
      "cell_type": "code",
      "source": [
        "fc = nn.Linear(3, 2)"
      ],
      "metadata": {
        "id": "W9VXCXOgb7uj"
      },
      "execution_count": null,
      "outputs": []
    },
    {
      "cell_type": "code",
      "source": [
        "fc.weight"
      ],
      "metadata": {
        "colab": {
          "base_uri": "https://localhost:8080/"
        },
        "id": "R3ORoCyRb_Eg",
        "outputId": "4597696f-cc5f-497c-cb23-19314b890e19"
      },
      "execution_count": null,
      "outputs": [
        {
          "output_type": "execute_result",
          "data": {
            "text/plain": [
              "Parameter containing:\n",
              "tensor([[-0.0043,  0.3097, -0.4752],\n",
              "        [-0.4249, -0.2224,  0.1548]], requires_grad=True)"
            ]
          },
          "metadata": {},
          "execution_count": 10
        }
      ]
    },
    {
      "cell_type": "code",
      "source": [
        "fc.bias"
      ],
      "metadata": {
        "colab": {
          "base_uri": "https://localhost:8080/"
        },
        "id": "Xyu_k-15cCxd",
        "outputId": "a608ccc1-5d6d-456c-8064-7945d60f9874"
      },
      "execution_count": null,
      "outputs": [
        {
          "output_type": "execute_result",
          "data": {
            "text/plain": [
              "Parameter containing:\n",
              "tensor([-0.0114,  0.4578], requires_grad=True)"
            ]
          },
          "metadata": {},
          "execution_count": 11
        }
      ]
    },
    {
      "cell_type": "markdown",
      "source": [
        "### 3. 線形変換"
      ],
      "metadata": {
        "id": "N0iUOnmwcIs9"
      }
    },
    {
      "cell_type": "code",
      "source": [
        "x = torch.Tensor([1, 2, 3])\n",
        "x"
      ],
      "metadata": {
        "colab": {
          "base_uri": "https://localhost:8080/"
        },
        "id": "LfNmmjg-cFDg",
        "outputId": "d23c52f0-e3fc-4b5b-ce84-0e94c72ef570"
      },
      "execution_count": null,
      "outputs": [
        {
          "output_type": "execute_result",
          "data": {
            "text/plain": [
              "tensor([1., 2., 3.])"
            ]
          },
          "metadata": {},
          "execution_count": 12
        }
      ]
    },
    {
      "cell_type": "code",
      "source": [
        "type(x)"
      ],
      "metadata": {
        "colab": {
          "base_uri": "https://localhost:8080/"
        },
        "id": "g_vWpJFqcRka",
        "outputId": "308065e7-5a44-4212-cef9-3e1c661b4385"
      },
      "execution_count": null,
      "outputs": [
        {
          "output_type": "execute_result",
          "data": {
            "text/plain": [
              "torch.Tensor"
            ]
          },
          "metadata": {},
          "execution_count": 13
        }
      ]
    },
    {
      "cell_type": "code",
      "source": [
        "x.dtype"
      ],
      "metadata": {
        "colab": {
          "base_uri": "https://localhost:8080/"
        },
        "id": "IDvYosX9cTGt",
        "outputId": "332868d9-1c0a-43d5-eb95-42c909a1ad73"
      },
      "execution_count": null,
      "outputs": [
        {
          "output_type": "execute_result",
          "data": {
            "text/plain": [
              "torch.float32"
            ]
          },
          "metadata": {},
          "execution_count": 14
        }
      ]
    },
    {
      "cell_type": "code",
      "source": [
        "x.shape"
      ],
      "metadata": {
        "colab": {
          "base_uri": "https://localhost:8080/"
        },
        "id": "cWxlVwPMca0e",
        "outputId": "c5b83312-f8ec-4628-9f35-f56d32158fc4"
      },
      "execution_count": null,
      "outputs": [
        {
          "output_type": "execute_result",
          "data": {
            "text/plain": [
              "torch.Size([3])"
            ]
          },
          "metadata": {},
          "execution_count": 15
        }
      ]
    },
    {
      "cell_type": "code",
      "source": [
        "# 線形変換\n",
        "# fc.__call__(x)\n",
        "u = fc(x)\n",
        "u"
      ],
      "metadata": {
        "colab": {
          "base_uri": "https://localhost:8080/"
        },
        "id": "3KYAUA5hcg0H",
        "outputId": "129780fc-97f8-476b-a7df-a3d4d5b4b5c6"
      },
      "execution_count": null,
      "outputs": [
        {
          "output_type": "execute_result",
          "data": {
            "text/plain": [
              "tensor([-0.8219,  0.0526], grad_fn=<ViewBackward0>)"
            ]
          },
          "metadata": {},
          "execution_count": 16
        }
      ]
    },
    {
      "cell_type": "markdown",
      "source": [
        "### 4. 非線形変換"
      ],
      "metadata": {
        "id": "t_MyxK9mc3cA"
      }
    },
    {
      "cell_type": "code",
      "source": [
        "import torch.nn.functional as F"
      ],
      "metadata": {
        "id": "yi-OGtfjcyS2"
      },
      "execution_count": null,
      "outputs": []
    },
    {
      "cell_type": "code",
      "source": [
        "h = F.relu(u)\n",
        "h"
      ],
      "metadata": {
        "colab": {
          "base_uri": "https://localhost:8080/"
        },
        "id": "1nbUx_FBc9TT",
        "outputId": "d407aee9-4ddc-4534-ddda-3512ace7be01"
      },
      "execution_count": null,
      "outputs": [
        {
          "output_type": "execute_result",
          "data": {
            "text/plain": [
              "tensor([0.0000, 0.0526], grad_fn=<ReluBackward0>)"
            ]
          },
          "metadata": {},
          "execution_count": 18
        }
      ]
    },
    {
      "cell_type": "markdown",
      "source": [
        "### 5. 目的関数\n",
        "\n",
        "目的関数 = 損失関数 + 正則化項"
      ],
      "metadata": {
        "id": "_W1l3V8VdFH6"
      }
    },
    {
      "cell_type": "code",
      "source": [
        "# 目標値\n",
        "t = torch.Tensor([[1], [3]])\n",
        "t"
      ],
      "metadata": {
        "colab": {
          "base_uri": "https://localhost:8080/"
        },
        "id": "XYTm4JdvdH3y",
        "outputId": "8199c1ad-4ed4-41da-bd3f-25ec06f95da6"
      },
      "execution_count": null,
      "outputs": [
        {
          "output_type": "execute_result",
          "data": {
            "text/plain": [
              "tensor([[1.],\n",
              "        [3.]])"
            ]
          },
          "metadata": {},
          "execution_count": 19
        }
      ]
    },
    {
      "cell_type": "code",
      "source": [
        "# 予測値\n",
        "y = torch.Tensor([[2], [4]])\n",
        "y"
      ],
      "metadata": {
        "colab": {
          "base_uri": "https://localhost:8080/"
        },
        "id": "KnWkl1lodnLs",
        "outputId": "4f14936d-10cb-4a7c-fa7d-7e528e842d4d"
      },
      "execution_count": null,
      "outputs": [
        {
          "output_type": "execute_result",
          "data": {
            "text/plain": [
              "tensor([[2.],\n",
              "        [4.]])"
            ]
          },
          "metadata": {},
          "execution_count": 20
        }
      ]
    },
    {
      "cell_type": "code",
      "source": [
        "# 平均二乗誤差\n",
        "F.mse_loss(y, t)"
      ],
      "metadata": {
        "colab": {
          "base_uri": "https://localhost:8080/"
        },
        "id": "QqiErCGRc2JL",
        "outputId": "bbcc18da-159c-412f-eded-bc1f5792a3cf"
      },
      "execution_count": null,
      "outputs": [
        {
          "output_type": "execute_result",
          "data": {
            "text/plain": [
              "tensor(1.)"
            ]
          },
          "metadata": {},
          "execution_count": 21
        }
      ]
    },
    {
      "cell_type": "markdown",
      "source": [
        "### 6. nn と F の使い分け\n",
        "- `nn`: `torch.nn` -> パラメータを持つ (weightやbiasなど)\n",
        "- `F`: `torch.nn.functional` -> パラメータを持たない"
      ],
      "metadata": {
        "id": "A9r7m5ireEK7"
      }
    },
    {
      "cell_type": "code",
      "source": [
        "from sklearn.datasets import load_breast_cancer"
      ],
      "metadata": {
        "id": "neD87c7id8Me"
      },
      "execution_count": null,
      "outputs": []
    },
    {
      "cell_type": "code",
      "source": [
        "# データセットの読み込み\n",
        "breast_cancer = load_breast_cancer()"
      ],
      "metadata": {
        "id": "HlHO-Aaw1R4N"
      },
      "execution_count": null,
      "outputs": []
    },
    {
      "cell_type": "code",
      "source": [
        "# 入力と目標値を抽出\n",
        "x = breast_cancer.data\n",
        "t = breast_cancer.target"
      ],
      "metadata": {
        "id": "PYJ2cXpr1mYy"
      },
      "execution_count": null,
      "outputs": []
    },
    {
      "cell_type": "code",
      "source": [
        "x.shape"
      ],
      "metadata": {
        "colab": {
          "base_uri": "https://localhost:8080/"
        },
        "id": "x1I-1h5Q1wN3",
        "outputId": "6e277c4e-bca7-4db3-c9fe-e94742803e78"
      },
      "execution_count": null,
      "outputs": [
        {
          "output_type": "execute_result",
          "data": {
            "text/plain": [
              "(569, 30)"
            ]
          },
          "metadata": {},
          "execution_count": 25
        }
      ]
    },
    {
      "cell_type": "code",
      "source": [
        "t.shape"
      ],
      "metadata": {
        "colab": {
          "base_uri": "https://localhost:8080/"
        },
        "id": "lacwWKuj1x20",
        "outputId": "7ceb702d-3c06-4f06-ad2b-c6368924bf98"
      },
      "execution_count": null,
      "outputs": [
        {
          "output_type": "execute_result",
          "data": {
            "text/plain": [
              "(569,)"
            ]
          },
          "metadata": {},
          "execution_count": 26
        }
      ]
    },
    {
      "cell_type": "code",
      "source": [
        "type(x), type(t)"
      ],
      "metadata": {
        "colab": {
          "base_uri": "https://localhost:8080/"
        },
        "id": "93bvdZVJ15Ty",
        "outputId": "a277798b-445b-4eff-87da-a8618d9ed39b"
      },
      "execution_count": null,
      "outputs": [
        {
          "output_type": "execute_result",
          "data": {
            "text/plain": [
              "(numpy.ndarray, numpy.ndarray)"
            ]
          },
          "metadata": {},
          "execution_count": 27
        }
      ]
    },
    {
      "cell_type": "code",
      "source": [
        "# ndarray -> Tensor\n",
        "x = torch.tensor(x, dtype=torch.float32)\n",
        "t = torch.tensor(t, dtype=torch.int64)"
      ],
      "metadata": {
        "id": "RYcvb_uI17iR"
      },
      "execution_count": null,
      "outputs": []
    },
    {
      "cell_type": "code",
      "source": [
        "type(x), type(t)"
      ],
      "metadata": {
        "colab": {
          "base_uri": "https://localhost:8080/"
        },
        "id": "qXMWtODQ2X18",
        "outputId": "3cf937bd-d676-49c4-80fa-f4327dd9c469"
      },
      "execution_count": null,
      "outputs": [
        {
          "output_type": "execute_result",
          "data": {
            "text/plain": [
              "(torch.Tensor, torch.Tensor)"
            ]
          },
          "metadata": {},
          "execution_count": 29
        }
      ]
    },
    {
      "cell_type": "code",
      "source": [
        "x.dtype, t.dtype"
      ],
      "metadata": {
        "colab": {
          "base_uri": "https://localhost:8080/"
        },
        "id": "oKkgjuPo2a6r",
        "outputId": "89394140-e694-4fa5-c2b6-10105c9caf03"
      },
      "execution_count": null,
      "outputs": [
        {
          "output_type": "execute_result",
          "data": {
            "text/plain": [
              "(torch.float32, torch.int64)"
            ]
          },
          "metadata": {},
          "execution_count": 30
        }
      ]
    },
    {
      "cell_type": "code",
      "source": [
        "x.shape, t.shape"
      ],
      "metadata": {
        "colab": {
          "base_uri": "https://localhost:8080/"
        },
        "id": "QL_8XWLZ2gRt",
        "outputId": "f4b1205d-3523-4dbd-fedf-7f8506332a67"
      },
      "execution_count": null,
      "outputs": [
        {
          "output_type": "execute_result",
          "data": {
            "text/plain": [
              "(torch.Size([569, 30]), torch.Size([569]))"
            ]
          },
          "metadata": {},
          "execution_count": 31
        }
      ]
    },
    {
      "cell_type": "markdown",
      "source": [
        "- 入力値: float32\n",
        "- 目標値\n",
        "  - 回帰: float32\n",
        "  - 分類\n",
        "    - 二値分類: float32\n",
        "    - 多値分類: int64"
      ],
      "metadata": {
        "id": "834keHan21KH"
      }
    },
    {
      "cell_type": "markdown",
      "source": [
        "### 2. DataLoader"
      ],
      "metadata": {
        "id": "Z1nRGKOO3Xo1"
      }
    },
    {
      "cell_type": "code",
      "source": [
        "# 入力値と目標値を dataset としてまとめる\n",
        "dataset = torch.utils.data.TensorDataset(x, t)\n",
        "dataset"
      ],
      "metadata": {
        "colab": {
          "base_uri": "https://localhost:8080/"
        },
        "id": "CvRp-h0S3W29",
        "outputId": "d5f84c59-b373-4fcd-a749-e9bfd2e020d6"
      },
      "execution_count": null,
      "outputs": [
        {
          "output_type": "execute_result",
          "data": {
            "text/plain": [
              "<torch.utils.data.dataset.TensorDataset at 0x7ba184d15890>"
            ]
          },
          "metadata": {},
          "execution_count": 32
        }
      ]
    },
    {
      "cell_type": "code",
      "source": [
        "type(dataset)"
      ],
      "metadata": {
        "colab": {
          "base_uri": "https://localhost:8080/",
          "height": 187
        },
        "id": "kfsfC6p035Xz",
        "outputId": "6ef9695b-48ea-497f-94df-0208a6a4fb88"
      },
      "execution_count": null,
      "outputs": [
        {
          "output_type": "execute_result",
          "data": {
            "text/plain": [
              "torch.utils.data.dataset.TensorDataset"
            ],
            "text/html": [
              "<div style=\"max-width:800px; border: 1px solid var(--colab-border-color);\"><style>\n",
              "      pre.function-repr-contents {\n",
              "        overflow-x: auto;\n",
              "        padding: 8px 12px;\n",
              "        max-height: 500px;\n",
              "      }\n",
              "\n",
              "      pre.function-repr-contents.function-repr-contents-collapsed {\n",
              "        cursor: pointer;\n",
              "        max-height: 100px;\n",
              "      }\n",
              "    </style>\n",
              "    <pre style=\"white-space: initial; background:\n",
              "         var(--colab-secondary-surface-color); padding: 8px 12px;\n",
              "         border-bottom: 1px solid var(--colab-border-color);\"><b>torch.utils.data.dataset.TensorDataset</b><br/>def __init__(*tensors: Tensor) -&gt; None</pre><pre class=\"function-repr-contents function-repr-contents-collapsed\" style=\"\"><a class=\"filepath\" style=\"display:none\" href=\"#\">/usr/local/lib/python3.11/dist-packages/torch/utils/data/dataset.py</a>Dataset wrapping tensors.\n",
              "\n",
              "Each sample will be retrieved by indexing tensors along the first dimension.\n",
              "\n",
              "Args:\n",
              "    *tensors (Tensor): tensors that have the same size of the first dimension.</pre>\n",
              "      <script>\n",
              "      if (google.colab.kernel.accessAllowed && google.colab.files && google.colab.files.view) {\n",
              "        for (const element of document.querySelectorAll('.filepath')) {\n",
              "          element.style.display = 'block'\n",
              "          element.onclick = (event) => {\n",
              "            event.preventDefault();\n",
              "            event.stopPropagation();\n",
              "            google.colab.files.view(element.textContent, 193);\n",
              "          };\n",
              "        }\n",
              "      }\n",
              "      for (const element of document.querySelectorAll('.function-repr-contents')) {\n",
              "        element.onclick = (event) => {\n",
              "          event.preventDefault();\n",
              "          event.stopPropagation();\n",
              "          element.classList.toggle('function-repr-contents-collapsed');\n",
              "        };\n",
              "      }\n",
              "      </script>\n",
              "      </div>"
            ]
          },
          "metadata": {},
          "execution_count": 33
        }
      ]
    },
    {
      "cell_type": "code",
      "source": [
        "dataset[0]"
      ],
      "metadata": {
        "colab": {
          "base_uri": "https://localhost:8080/"
        },
        "id": "t-C4odE24OJp",
        "outputId": "80f96fce-21d1-42ed-f45d-5ca8443c8c1c"
      },
      "execution_count": null,
      "outputs": [
        {
          "output_type": "execute_result",
          "data": {
            "text/plain": [
              "(tensor([1.7990e+01, 1.0380e+01, 1.2280e+02, 1.0010e+03, 1.1840e-01, 2.7760e-01,\n",
              "         3.0010e-01, 1.4710e-01, 2.4190e-01, 7.8710e-02, 1.0950e+00, 9.0530e-01,\n",
              "         8.5890e+00, 1.5340e+02, 6.3990e-03, 4.9040e-02, 5.3730e-02, 1.5870e-02,\n",
              "         3.0030e-02, 6.1930e-03, 2.5380e+01, 1.7330e+01, 1.8460e+02, 2.0190e+03,\n",
              "         1.6220e-01, 6.6560e-01, 7.1190e-01, 2.6540e-01, 4.6010e-01, 1.1890e-01]),\n",
              " tensor(0))"
            ]
          },
          "metadata": {},
          "execution_count": 34
        }
      ]
    },
    {
      "cell_type": "code",
      "source": [
        "dataset[0][0]"
      ],
      "metadata": {
        "colab": {
          "base_uri": "https://localhost:8080/"
        },
        "id": "-fexEMyw4RnQ",
        "outputId": "54a4a584-bd48-4ff2-de97-bf8d352f364e"
      },
      "execution_count": null,
      "outputs": [
        {
          "output_type": "execute_result",
          "data": {
            "text/plain": [
              "tensor([1.7990e+01, 1.0380e+01, 1.2280e+02, 1.0010e+03, 1.1840e-01, 2.7760e-01,\n",
              "        3.0010e-01, 1.4710e-01, 2.4190e-01, 7.8710e-02, 1.0950e+00, 9.0530e-01,\n",
              "        8.5890e+00, 1.5340e+02, 6.3990e-03, 4.9040e-02, 5.3730e-02, 1.5870e-02,\n",
              "        3.0030e-02, 6.1930e-03, 2.5380e+01, 1.7330e+01, 1.8460e+02, 2.0190e+03,\n",
              "        1.6220e-01, 6.6560e-01, 7.1190e-01, 2.6540e-01, 4.6010e-01, 1.1890e-01])"
            ]
          },
          "metadata": {},
          "execution_count": 35
        }
      ]
    },
    {
      "cell_type": "code",
      "source": [
        "dataset[0][1]"
      ],
      "metadata": {
        "colab": {
          "base_uri": "https://localhost:8080/"
        },
        "id": "nZvhIyyE4V1D",
        "outputId": "deb822e0-e27d-448f-9c80-3574283f1e75"
      },
      "execution_count": null,
      "outputs": [
        {
          "output_type": "execute_result",
          "data": {
            "text/plain": [
              "tensor(0)"
            ]
          },
          "metadata": {},
          "execution_count": 36
        }
      ]
    },
    {
      "cell_type": "markdown",
      "source": [
        "- 訓練データ: ネットワークのパラメータの最適化(w, b)\n",
        "- 検証データ: ネットワークのハイパーパラメータの最適化(e.g. learning rate, layer, node)\n",
        "- テストデータ: 訓練済みネットワークの評価"
      ],
      "metadata": {
        "id": "nW4kiYxU4bVc"
      }
    },
    {
      "cell_type": "code",
      "source": [
        "# 各データセットのサンプル数を決定\n",
        "# train : val : test = 60% : 20% : 20%\n",
        "n_train = int(len(dataset) * 0.6)\n",
        "n_val = int(len(dataset) * 0.2)\n",
        "n_test = len(dataset) - n_train - n_val\n",
        "\n",
        "n_train, n_val, n_test"
      ],
      "metadata": {
        "colab": {
          "base_uri": "https://localhost:8080/"
        },
        "id": "ThaTsZv058a3",
        "outputId": "b4ec705f-8dc0-4ea2-9b94-7884158c6f2b"
      },
      "execution_count": null,
      "outputs": [
        {
          "output_type": "execute_result",
          "data": {
            "text/plain": [
              "(341, 113, 115)"
            ]
          },
          "metadata": {},
          "execution_count": 37
        }
      ]
    },
    {
      "cell_type": "code",
      "source": [
        "# ランダムに分割を行うため、シードを固定して再現性を確保\n",
        "torch.manual_seed(0)"
      ],
      "metadata": {
        "colab": {
          "base_uri": "https://localhost:8080/"
        },
        "id": "9PiQmRQO8n7c",
        "outputId": "4a5a2857-fc17-479e-eec4-ea84dd28bae8"
      },
      "execution_count": null,
      "outputs": [
        {
          "output_type": "execute_result",
          "data": {
            "text/plain": [
              "<torch._C.Generator at 0x7ba29cc55b10>"
            ]
          },
          "metadata": {},
          "execution_count": 38
        }
      ]
    },
    {
      "cell_type": "code",
      "source": [
        "# データセットの分割\n",
        "train, val, test = torch.utils.data.random_split(dataset, [n_train, n_val, n_test])"
      ],
      "metadata": {
        "id": "J9oPdxh48-GY"
      },
      "execution_count": null,
      "outputs": []
    },
    {
      "cell_type": "code",
      "source": [
        "# サンプル数を確認\n",
        "len(train), len(val), len(test)"
      ],
      "metadata": {
        "colab": {
          "base_uri": "https://localhost:8080/"
        },
        "id": "VzltyFmV9ZEJ",
        "outputId": "718f5e6f-b3b9-4bcc-8273-efb627d7e976"
      },
      "execution_count": null,
      "outputs": [
        {
          "output_type": "execute_result",
          "data": {
            "text/plain": [
              "(341, 113, 115)"
            ]
          },
          "metadata": {},
          "execution_count": 40
        }
      ]
    },
    {
      "cell_type": "code",
      "source": [
        "# バッチサイズ\n",
        "batch_size = 10"
      ],
      "metadata": {
        "id": "T6Qwq2wk94wI"
      },
      "execution_count": null,
      "outputs": []
    },
    {
      "cell_type": "code",
      "source": [
        "# DataLoaderの定義\n",
        "train_loader = torch.utils.data.DataLoader(train, batch_size=batch_size, shuffle=True, drop_last=True)\n",
        "val_loader = torch.utils.data.DataLoader(val, batch_size=batch_size)\n",
        "test_loader = torch.utils.data.DataLoader(test, batch_size=batch_size)"
      ],
      "metadata": {
        "id": "FtTI27U_-Dt0"
      },
      "execution_count": null,
      "outputs": []
    },
    {
      "cell_type": "code",
      "source": [
        "x, t = next(iter(train_loader))"
      ],
      "metadata": {
        "id": "CNWqZzTi-5D0"
      },
      "execution_count": null,
      "outputs": []
    },
    {
      "cell_type": "code",
      "source": [
        "x.shape"
      ],
      "metadata": {
        "colab": {
          "base_uri": "https://localhost:8080/"
        },
        "id": "-cakbn7C_HWy",
        "outputId": "4fc1fa5b-4124-4ac6-86a3-bf64b47b72a2"
      },
      "execution_count": null,
      "outputs": [
        {
          "output_type": "execute_result",
          "data": {
            "text/plain": [
              "torch.Size([10, 30])"
            ]
          },
          "metadata": {},
          "execution_count": 44
        }
      ]
    },
    {
      "cell_type": "code",
      "source": [
        "t.shape"
      ],
      "metadata": {
        "colab": {
          "base_uri": "https://localhost:8080/"
        },
        "id": "xvmmBnO2_IEj",
        "outputId": "ac510a42-775c-4d10-dc1c-34b157b36df1"
      },
      "execution_count": null,
      "outputs": [
        {
          "output_type": "execute_result",
          "data": {
            "text/plain": [
              "torch.Size([10])"
            ]
          },
          "metadata": {},
          "execution_count": 45
        }
      ]
    },
    {
      "cell_type": "code",
      "source": [
        "x, t = train[0]"
      ],
      "metadata": {
        "id": "XcgBcuqYZ2P1"
      },
      "execution_count": null,
      "outputs": []
    },
    {
      "cell_type": "code",
      "source": [
        "x.shape"
      ],
      "metadata": {
        "colab": {
          "base_uri": "https://localhost:8080/"
        },
        "id": "_XgwmphVaRQR",
        "outputId": "365d7771-3ded-4c02-d893-2b7ca139d3ab"
      },
      "execution_count": null,
      "outputs": [
        {
          "output_type": "execute_result",
          "data": {
            "text/plain": [
              "torch.Size([30])"
            ]
          },
          "metadata": {},
          "execution_count": 47
        }
      ]
    },
    {
      "cell_type": "code",
      "source": [
        "t"
      ],
      "metadata": {
        "colab": {
          "base_uri": "https://localhost:8080/"
        },
        "id": "hnGAH_xPaUAP",
        "outputId": "d5ccea56-be38-4ac8-a640-c0fea6557664"
      },
      "execution_count": null,
      "outputs": [
        {
          "output_type": "execute_result",
          "data": {
            "text/plain": [
              "tensor(1)"
            ]
          },
          "metadata": {},
          "execution_count": 48
        }
      ]
    },
    {
      "cell_type": "code",
      "source": [
        "x.unsqueeze(0).shape"
      ],
      "metadata": {
        "colab": {
          "base_uri": "https://localhost:8080/"
        },
        "id": "d5d8Mk5FaiRN",
        "outputId": "458b0a2b-6c4c-4094-b708-8e9916b9d15c"
      },
      "execution_count": null,
      "outputs": [
        {
          "output_type": "execute_result",
          "data": {
            "text/plain": [
              "torch.Size([1, 30])"
            ]
          },
          "metadata": {},
          "execution_count": 49
        }
      ]
    },
    {
      "cell_type": "code",
      "source": [
        "# 乱数シードの固定\n",
        "torch.manual_seed(0)"
      ],
      "metadata": {
        "colab": {
          "base_uri": "https://localhost:8080/"
        },
        "id": "dy8IFUOha0OZ",
        "outputId": "17162b04-919e-4cb6-c5c7-9382640dc508"
      },
      "execution_count": null,
      "outputs": [
        {
          "output_type": "execute_result",
          "data": {
            "text/plain": [
              "<torch._C.Generator at 0x7ba29cc55b10>"
            ]
          },
          "metadata": {},
          "execution_count": 50
        }
      ]
    },
    {
      "cell_type": "code",
      "source": [
        "# 全結合層の定義\n",
        "fc1 = nn.Linear(30, 10)\n",
        "fc2 = nn.Linear(10, 2)"
      ],
      "metadata": {
        "id": "US08IMN9a50k"
      },
      "execution_count": null,
      "outputs": []
    },
    {
      "cell_type": "code",
      "source": [
        "fc1.weight"
      ],
      "metadata": {
        "colab": {
          "base_uri": "https://localhost:8080/"
        },
        "id": "cZdPzK_rawyd",
        "outputId": "18152a80-ecf3-46d4-879b-0800dd83da78"
      },
      "execution_count": null,
      "outputs": [
        {
          "output_type": "execute_result",
          "data": {
            "text/plain": [
              "Parameter containing:\n",
              "tensor([[-0.0014,  0.0979, -0.1503, -0.1344, -0.0703,  0.0490, -0.0036,  0.1448,\n",
              "         -0.0162,  0.0483, -0.0552, -0.0359, -0.1744, -0.1209, -0.0753,  0.0068,\n",
              "          0.0722,  0.1095, -0.1238, -0.0795,  0.0663,  0.1516, -0.0376,  0.1366,\n",
              "         -0.0294,  0.0193,  0.1653, -0.1694, -0.1149, -0.0462],\n",
              "        [-0.0712,  0.1577, -0.1183, -0.0840, -0.1276, -0.1710, -0.1066,  0.1569,\n",
              "          0.0815,  0.0885,  0.0096, -0.0936,  0.0309, -0.1705, -0.1319, -0.0941,\n",
              "          0.1152,  0.1070, -0.0810, -0.0066,  0.1168,  0.1815,  0.0725,  0.0247,\n",
              "          0.1224, -0.1075,  0.0340, -0.1416, -0.1265, -0.0943],\n",
              "        [ 0.0826,  0.0734, -0.1081,  0.0552,  0.1002, -0.0230,  0.0070,  0.0423,\n",
              "          0.1133,  0.1753, -0.1407, -0.0669,  0.0718,  0.1513,  0.1589,  0.1611,\n",
              "          0.0363, -0.1588,  0.0168, -0.1142, -0.1702,  0.1622,  0.1388, -0.1821,\n",
              "          0.0342, -0.0308, -0.0300, -0.0836,  0.0702, -0.1081],\n",
              "        [ 0.0669,  0.0923,  0.1307,  0.0683, -0.1807, -0.1184,  0.0912,  0.0382,\n",
              "         -0.1424, -0.1051,  0.1718,  0.1230, -0.0796, -0.0460, -0.1739, -0.0033,\n",
              "         -0.1375, -0.1408, -0.0101,  0.0274, -0.0748,  0.1083, -0.1111,  0.1657,\n",
              "          0.1251, -0.1540, -0.0454,  0.0082,  0.0266,  0.0433],\n",
              "        [ 0.0716,  0.0109, -0.0891,  0.0864, -0.1751, -0.1082, -0.0457, -0.0889,\n",
              "         -0.0639, -0.1496, -0.0388,  0.0390, -0.1189, -0.0094,  0.1307, -0.0188,\n",
              "          0.0051, -0.0158,  0.0369,  0.1161,  0.1729,  0.1159,  0.1733, -0.0132,\n",
              "         -0.1640, -0.0866,  0.1243, -0.0012, -0.0907, -0.1399],\n",
              "        [-0.1709, -0.1541, -0.0370,  0.1001,  0.0987, -0.1761,  0.1139, -0.1429,\n",
              "         -0.0386, -0.0740, -0.0352, -0.0358, -0.1638, -0.1576, -0.0286,  0.0024,\n",
              "         -0.0829,  0.0688, -0.1643, -0.0123,  0.1606, -0.0745,  0.1649,  0.0661,\n",
              "         -0.1648,  0.1155, -0.0211, -0.0815,  0.1460, -0.1475],\n",
              "        [ 0.0196, -0.0382,  0.1304,  0.0510,  0.0877,  0.0645, -0.0439, -0.0384,\n",
              "         -0.1505,  0.0989,  0.1450,  0.1249, -0.1288,  0.0081, -0.1287, -0.1005,\n",
              "         -0.1064,  0.0624, -0.1088, -0.0040,  0.0077,  0.1177, -0.1380, -0.1253,\n",
              "         -0.1060,  0.1278, -0.0656,  0.1540,  0.0660,  0.0231],\n",
              "        [-0.0014, -0.0361,  0.0229, -0.0417, -0.0013,  0.0233, -0.1428, -0.0957,\n",
              "          0.1474, -0.1482, -0.0131,  0.1806,  0.0660,  0.0052, -0.1582,  0.0904,\n",
              "         -0.1300, -0.0518, -0.0613, -0.0270,  0.0020,  0.1506,  0.0228,  0.1635,\n",
              "          0.1117, -0.1154,  0.0819, -0.1291, -0.0774,  0.0537],\n",
              "        [ 0.0603,  0.1370, -0.0588,  0.0003,  0.0940, -0.1766,  0.1320, -0.1510,\n",
              "          0.0025, -0.0310, -0.0962,  0.0241,  0.1510, -0.0534, -0.1084, -0.0675,\n",
              "         -0.1810,  0.0824, -0.0877, -0.1218, -0.1052,  0.1050,  0.0967,  0.1401,\n",
              "          0.0662, -0.0610, -0.0510,  0.0539,  0.1501,  0.0496],\n",
              "        [-0.0864, -0.0858, -0.1726,  0.0394, -0.1025, -0.1628,  0.1601, -0.1186,\n",
              "         -0.0208,  0.0523,  0.0058, -0.1229, -0.1476,  0.1455,  0.0297,  0.1515,\n",
              "         -0.0612,  0.0538, -0.0418, -0.0081, -0.1112,  0.0617,  0.0577, -0.0038,\n",
              "         -0.0411, -0.1125,  0.1263, -0.1359,  0.0748, -0.0614]],\n",
              "       requires_grad=True)"
            ]
          },
          "metadata": {},
          "execution_count": 52
        }
      ]
    },
    {
      "cell_type": "markdown",
      "source": [
        "# 順伝播\n",
        "- 線形結合 fc1\n",
        "- 非線形変換 ReLU\n",
        "- 線形変換 fc2\n",
        "- 非線形変換 Softmax"
      ],
      "metadata": {
        "id": "YBreRFGnbQsG"
      }
    },
    {
      "cell_type": "code",
      "source": [
        "x.unsqueeze(0).shape"
      ],
      "metadata": {
        "colab": {
          "base_uri": "https://localhost:8080/"
        },
        "id": "33VYk9_HbNWz",
        "outputId": "6af3e88a-b990-4f2d-defa-036f470b2307"
      },
      "execution_count": null,
      "outputs": [
        {
          "output_type": "execute_result",
          "data": {
            "text/plain": [
              "torch.Size([1, 30])"
            ]
          },
          "metadata": {},
          "execution_count": 53
        }
      ]
    },
    {
      "cell_type": "code",
      "source": [
        "h = fc1(x.unsqueeze(0))"
      ],
      "metadata": {
        "id": "FqwdAxe6b1Bl"
      },
      "execution_count": null,
      "outputs": []
    },
    {
      "cell_type": "code",
      "source": [
        "h.shape"
      ],
      "metadata": {
        "colab": {
          "base_uri": "https://localhost:8080/"
        },
        "id": "S6HVqvCDcKj9",
        "outputId": "bc3c1513-9a9f-4938-da57-aa902fa6d612"
      },
      "execution_count": null,
      "outputs": [
        {
          "output_type": "execute_result",
          "data": {
            "text/plain": [
              "torch.Size([1, 10])"
            ]
          },
          "metadata": {},
          "execution_count": 55
        }
      ]
    },
    {
      "cell_type": "code",
      "source": [
        "h = F.relu(h)\n",
        "h"
      ],
      "metadata": {
        "colab": {
          "base_uri": "https://localhost:8080/"
        },
        "id": "uAFWVW_gdtSK",
        "outputId": "a5267f66-95e5-4057-9d28-f181cabb0600"
      },
      "execution_count": null,
      "outputs": [
        {
          "output_type": "execute_result",
          "data": {
            "text/plain": [
              "tensor([[  0.1830,   0.0000,   0.0000, 142.6534,  51.1358,  95.4793,   0.0000,\n",
              "          87.3314,  94.4835,  10.6316]], grad_fn=<ReluBackward0>)"
            ]
          },
          "metadata": {},
          "execution_count": 56
        }
      ]
    },
    {
      "cell_type": "code",
      "source": [
        "h = fc2(h)\n",
        "h"
      ],
      "metadata": {
        "colab": {
          "base_uri": "https://localhost:8080/"
        },
        "id": "1M1cjU_Cd-eR",
        "outputId": "56af517f-aaf1-41df-f265-b8fb52fa72d8"
      },
      "execution_count": null,
      "outputs": [
        {
          "output_type": "execute_result",
          "data": {
            "text/plain": [
              "tensor([[22.3666, 57.7020]], grad_fn=<AddmmBackward0>)"
            ]
          },
          "metadata": {},
          "execution_count": 57
        }
      ]
    },
    {
      "cell_type": "code",
      "source": [
        "h = F.softmax(h)\n",
        "h"
      ],
      "metadata": {
        "colab": {
          "base_uri": "https://localhost:8080/"
        },
        "id": "2x6z8dgLeHhD",
        "outputId": "23efa1c2-6034-4293-ecbf-f6b9b051341f"
      },
      "execution_count": null,
      "outputs": [
        {
          "output_type": "stream",
          "name": "stderr",
          "text": [
            "<ipython-input-58-3e9aa2b0c6ea>:1: UserWarning: Implicit dimension choice for softmax has been deprecated. Change the call to include dim=X as an argument.\n",
            "  h = F.softmax(h)\n"
          ]
        },
        {
          "output_type": "execute_result",
          "data": {
            "text/plain": [
              "tensor([[4.5087e-16, 1.0000e+00]], grad_fn=<SoftmaxBackward0>)"
            ]
          },
          "metadata": {},
          "execution_count": 58
        }
      ]
    },
    {
      "cell_type": "code",
      "source": [
        "class Net(nn.Module):\n",
        "    def __init__(self):\n",
        "        super().__init__()\n",
        "        self.fc1 = nn.Linear(30, 10)\n",
        "        self.fc2 = nn.Linear(10, 2)\n",
        "\n",
        "    def forward(self, x):\n",
        "        h = self.fc1(x)\n",
        "        h = F.relu(h)\n",
        "        h = self.fc2(h)\n",
        "        # h = F.softmax(h)\n",
        "        return h"
      ],
      "metadata": {
        "id": "XbcwH9EteN22"
      },
      "execution_count": null,
      "outputs": []
    },
    {
      "cell_type": "code",
      "source": [
        "# 乱数のシードの固定\n",
        "torch.manual_seed(0)\n",
        "\n",
        "# インスタンス化\n",
        "net = Net()\n",
        "net"
      ],
      "metadata": {
        "colab": {
          "base_uri": "https://localhost:8080/"
        },
        "id": "9E_uIMFje4zF",
        "outputId": "76fc136a-565c-4af9-ef53-6a0babe0a0c7"
      },
      "execution_count": null,
      "outputs": [
        {
          "output_type": "execute_result",
          "data": {
            "text/plain": [
              "Net(\n",
              "  (fc1): Linear(in_features=30, out_features=10, bias=True)\n",
              "  (fc2): Linear(in_features=10, out_features=2, bias=True)\n",
              ")"
            ]
          },
          "metadata": {},
          "execution_count": 60
        }
      ]
    },
    {
      "cell_type": "code",
      "source": [
        "# net.forward(x.unsqueeze(0))\n",
        "net(x.unsqueeze(0))"
      ],
      "metadata": {
        "colab": {
          "base_uri": "https://localhost:8080/"
        },
        "id": "1i5u7BcwfG2Z",
        "outputId": "62372046-9855-4605-cab8-1f1735999f01"
      },
      "execution_count": null,
      "outputs": [
        {
          "output_type": "execute_result",
          "data": {
            "text/plain": [
              "tensor([[22.3666, 57.7020]], grad_fn=<AddmmBackward0>)"
            ]
          },
          "metadata": {},
          "execution_count": 61
        }
      ]
    },
    {
      "cell_type": "markdown",
      "source": [
        "### 3. 損失関数\n",
        "\n",
        "交差エントロピー\n",
        "\n",
        "$$\n",
        "L = - \\dfrac{1}{N} \\sum_{n=1}^{N} \\sum_{c=1}^{C} t_{nc} \\log y_{nc}\n",
        "$$\n",
        "\n",
        "`F.cross_entropy`"
      ],
      "metadata": {
        "id": "B7tRoGiqfk2U"
      }
    },
    {
      "cell_type": "markdown",
      "source": [
        "### 4. 最適化手法"
      ],
      "metadata": {
        "id": "PhRdGIgnhuMa"
      }
    },
    {
      "cell_type": "code",
      "source": [
        "optimizer = torch.optim.SGD(net.parameters(), lr=0.01)"
      ],
      "metadata": {
        "id": "BCutGskjff3M"
      },
      "execution_count": null,
      "outputs": []
    },
    {
      "cell_type": "code",
      "source": [
        "# for parameter in net.parameters():\n",
        "#   print(parameter)\n",
        "print(*net.parameters())"
      ],
      "metadata": {
        "colab": {
          "base_uri": "https://localhost:8080/"
        },
        "id": "h0_7O7G1iKyM",
        "outputId": "9e7a9158-5996-4627-8331-71ba4d2d3b9a"
      },
      "execution_count": null,
      "outputs": [
        {
          "output_type": "stream",
          "name": "stdout",
          "text": [
            "Parameter containing:\n",
            "tensor([[-0.0014,  0.0979, -0.1503, -0.1344, -0.0703,  0.0490, -0.0036,  0.1448,\n",
            "         -0.0162,  0.0483, -0.0552, -0.0359, -0.1744, -0.1209, -0.0753,  0.0068,\n",
            "          0.0722,  0.1095, -0.1238, -0.0795,  0.0663,  0.1516, -0.0376,  0.1366,\n",
            "         -0.0294,  0.0193,  0.1653, -0.1694, -0.1149, -0.0462],\n",
            "        [-0.0712,  0.1577, -0.1183, -0.0840, -0.1276, -0.1710, -0.1066,  0.1569,\n",
            "          0.0815,  0.0885,  0.0096, -0.0936,  0.0309, -0.1705, -0.1319, -0.0941,\n",
            "          0.1152,  0.1070, -0.0810, -0.0066,  0.1168,  0.1815,  0.0725,  0.0247,\n",
            "          0.1224, -0.1075,  0.0340, -0.1416, -0.1265, -0.0943],\n",
            "        [ 0.0826,  0.0734, -0.1081,  0.0552,  0.1002, -0.0230,  0.0070,  0.0423,\n",
            "          0.1133,  0.1753, -0.1407, -0.0669,  0.0718,  0.1513,  0.1589,  0.1611,\n",
            "          0.0363, -0.1588,  0.0168, -0.1142, -0.1702,  0.1622,  0.1388, -0.1821,\n",
            "          0.0342, -0.0308, -0.0300, -0.0836,  0.0702, -0.1081],\n",
            "        [ 0.0669,  0.0923,  0.1307,  0.0683, -0.1807, -0.1184,  0.0912,  0.0382,\n",
            "         -0.1424, -0.1051,  0.1718,  0.1230, -0.0796, -0.0460, -0.1739, -0.0033,\n",
            "         -0.1375, -0.1408, -0.0101,  0.0274, -0.0748,  0.1083, -0.1111,  0.1657,\n",
            "          0.1251, -0.1540, -0.0454,  0.0082,  0.0266,  0.0433],\n",
            "        [ 0.0716,  0.0109, -0.0891,  0.0864, -0.1751, -0.1082, -0.0457, -0.0889,\n",
            "         -0.0639, -0.1496, -0.0388,  0.0390, -0.1189, -0.0094,  0.1307, -0.0188,\n",
            "          0.0051, -0.0158,  0.0369,  0.1161,  0.1729,  0.1159,  0.1733, -0.0132,\n",
            "         -0.1640, -0.0866,  0.1243, -0.0012, -0.0907, -0.1399],\n",
            "        [-0.1709, -0.1541, -0.0370,  0.1001,  0.0987, -0.1761,  0.1139, -0.1429,\n",
            "         -0.0386, -0.0740, -0.0352, -0.0358, -0.1638, -0.1576, -0.0286,  0.0024,\n",
            "         -0.0829,  0.0688, -0.1643, -0.0123,  0.1606, -0.0745,  0.1649,  0.0661,\n",
            "         -0.1648,  0.1155, -0.0211, -0.0815,  0.1460, -0.1475],\n",
            "        [ 0.0196, -0.0382,  0.1304,  0.0510,  0.0877,  0.0645, -0.0439, -0.0384,\n",
            "         -0.1505,  0.0989,  0.1450,  0.1249, -0.1288,  0.0081, -0.1287, -0.1005,\n",
            "         -0.1064,  0.0624, -0.1088, -0.0040,  0.0077,  0.1177, -0.1380, -0.1253,\n",
            "         -0.1060,  0.1278, -0.0656,  0.1540,  0.0660,  0.0231],\n",
            "        [-0.0014, -0.0361,  0.0229, -0.0417, -0.0013,  0.0233, -0.1428, -0.0957,\n",
            "          0.1474, -0.1482, -0.0131,  0.1806,  0.0660,  0.0052, -0.1582,  0.0904,\n",
            "         -0.1300, -0.0518, -0.0613, -0.0270,  0.0020,  0.1506,  0.0228,  0.1635,\n",
            "          0.1117, -0.1154,  0.0819, -0.1291, -0.0774,  0.0537],\n",
            "        [ 0.0603,  0.1370, -0.0588,  0.0003,  0.0940, -0.1766,  0.1320, -0.1510,\n",
            "          0.0025, -0.0310, -0.0962,  0.0241,  0.1510, -0.0534, -0.1084, -0.0675,\n",
            "         -0.1810,  0.0824, -0.0877, -0.1218, -0.1052,  0.1050,  0.0967,  0.1401,\n",
            "          0.0662, -0.0610, -0.0510,  0.0539,  0.1501,  0.0496],\n",
            "        [-0.0864, -0.0858, -0.1726,  0.0394, -0.1025, -0.1628,  0.1601, -0.1186,\n",
            "         -0.0208,  0.0523,  0.0058, -0.1229, -0.1476,  0.1455,  0.0297,  0.1515,\n",
            "         -0.0612,  0.0538, -0.0418, -0.0081, -0.1112,  0.0617,  0.0577, -0.0038,\n",
            "         -0.0411, -0.1125,  0.1263, -0.1359,  0.0748, -0.0614]],\n",
            "       requires_grad=True) Parameter containing:\n",
            "tensor([-0.0881,  0.0328, -0.0948,  0.0421,  0.0359, -0.1356,  0.0304,  0.0778,\n",
            "         0.0723, -0.0230], requires_grad=True) Parameter containing:\n",
            "tensor([[-0.2592, -0.0487,  0.1098, -0.1154,  0.1200,  0.2106, -0.1651,  0.0031,\n",
            "          0.1308,  0.0248],\n",
            "        [ 0.0264,  0.0395, -0.2486,  0.0249,  0.2190,  0.2850,  0.1859,  0.0424,\n",
            "          0.1477, -0.1538]], requires_grad=True) Parameter containing:\n",
            "tensor([-0.2621, -0.2719], requires_grad=True)\n"
          ]
        }
      ]
    },
    {
      "cell_type": "markdown",
      "source": [
        "### 5. ネットワークの訓練の流れを確認"
      ],
      "metadata": {
        "id": "Yx62B2lcjkIl"
      }
    },
    {
      "cell_type": "code",
      "source": [
        "batch = next(iter(train_loader))\n",
        "# Step 1\n",
        "x, t = batch"
      ],
      "metadata": {
        "id": "xNHXfx0OkNbu"
      },
      "execution_count": null,
      "outputs": []
    },
    {
      "cell_type": "code",
      "source": [
        "# Step 2\n",
        "y = net(x)"
      ],
      "metadata": {
        "id": "1WX_ju9plAjU"
      },
      "execution_count": null,
      "outputs": []
    },
    {
      "cell_type": "code",
      "source": [
        "# Step 3\n",
        "loss = F.cross_entropy(y, t)"
      ],
      "metadata": {
        "id": "0rk1WOi9lFfD"
      },
      "execution_count": null,
      "outputs": []
    },
    {
      "cell_type": "code",
      "source": [
        "net.fc1.weight.grad\n",
        "# net.fc1.bias.grad"
      ],
      "metadata": {
        "id": "cSKPwNkXlMbr"
      },
      "execution_count": null,
      "outputs": []
    },
    {
      "cell_type": "code",
      "source": [
        "# Step 4\n",
        "optimizer.zero_grad() # 勾配の初期化\n",
        "loss.backward() # 勾配の算出"
      ],
      "metadata": {
        "id": "liSLybuWlWoQ"
      },
      "execution_count": null,
      "outputs": []
    },
    {
      "cell_type": "code",
      "source": [
        "net.fc1.weight.grad\n",
        "# net.fc1.bias.grad\n",
        "# net.fc2.weight.grad\n",
        "# net.fc2.bias.grad"
      ],
      "metadata": {
        "colab": {
          "base_uri": "https://localhost:8080/"
        },
        "id": "_JW7CvSZl2fW",
        "outputId": "c1c9b91e-9e7f-442f-e785-bd98ff6f4e02"
      },
      "execution_count": null,
      "outputs": [
        {
          "output_type": "execute_result",
          "data": {
            "text/plain": [
              "tensor([[ 2.3378e+00,  3.4356e+00,  1.5772e+01,  1.2823e+02,  1.6362e-02,\n",
              "          2.9557e-02,  3.4264e-02,  1.4788e-02,  3.0445e-02,  1.0216e-02,\n",
              "          6.6737e-02,  2.2061e-01,  5.5411e-01,  7.8438e+00,  1.1115e-03,\n",
              "          9.1272e-03,  1.1084e-02,  2.6349e-03,  3.5681e-03,  1.0354e-03,\n",
              "          2.6589e+00,  5.0072e+00,  1.8492e+01,  1.6547e+02,  2.3532e-02,\n",
              "          8.8433e-02,  1.0870e-01,  3.0511e-02,  5.3197e-02,  1.8125e-02],\n",
              "        [ 0.0000e+00,  0.0000e+00,  0.0000e+00,  0.0000e+00,  0.0000e+00,\n",
              "          0.0000e+00,  0.0000e+00,  0.0000e+00,  0.0000e+00,  0.0000e+00,\n",
              "          0.0000e+00,  0.0000e+00,  0.0000e+00,  0.0000e+00,  0.0000e+00,\n",
              "          0.0000e+00,  0.0000e+00,  0.0000e+00,  0.0000e+00,  0.0000e+00,\n",
              "          0.0000e+00,  0.0000e+00,  0.0000e+00,  0.0000e+00,  0.0000e+00,\n",
              "          0.0000e+00,  0.0000e+00,  0.0000e+00,  0.0000e+00,  0.0000e+00],\n",
              "        [ 0.0000e+00,  0.0000e+00,  0.0000e+00,  0.0000e+00,  0.0000e+00,\n",
              "          0.0000e+00,  0.0000e+00,  0.0000e+00,  0.0000e+00,  0.0000e+00,\n",
              "          0.0000e+00,  0.0000e+00,  0.0000e+00,  0.0000e+00,  0.0000e+00,\n",
              "          0.0000e+00,  0.0000e+00,  0.0000e+00,  0.0000e+00,  0.0000e+00,\n",
              "          0.0000e+00,  0.0000e+00,  0.0000e+00,  0.0000e+00,  0.0000e+00,\n",
              "          0.0000e+00,  0.0000e+00,  0.0000e+00,  0.0000e+00,  0.0000e+00],\n",
              "        [ 1.1477e+00,  1.6866e+00,  7.7430e+00,  6.2951e+01,  8.0327e-03,\n",
              "          1.4510e-02,  1.6821e-02,  7.2600e-03,  1.4946e-02,  5.0153e-03,\n",
              "          3.2763e-02,  1.0830e-01,  2.7203e-01,  3.8507e+00,  5.4564e-04,\n",
              "          4.4808e-03,  5.4413e-03,  1.2935e-03,  1.7517e-03,  5.0833e-04,\n",
              "          1.3053e+00,  2.4582e+00,  9.0785e+00,  8.1236e+01,  1.1553e-02,\n",
              "          4.3414e-02,  5.3363e-02,  1.4979e-02,  2.6116e-02,  8.8981e-03],\n",
              "        [ 8.0976e-01,  1.1900e+00,  5.4631e+00,  4.4415e+01,  5.6675e-03,\n",
              "          1.0238e-02,  1.1868e-02,  5.1223e-03,  1.0545e-02,  3.5385e-03,\n",
              "          2.3116e-02,  7.6415e-02,  1.9193e-01,  2.7169e+00,  3.8498e-04,\n",
              "          3.1615e-03,  3.8391e-03,  9.1266e-04,  1.2359e-03,  3.5865e-04,\n",
              "          9.2097e-01,  1.7344e+00,  6.4053e+00,  5.7316e+01,  8.1510e-03,\n",
              "          3.0631e-02,  3.7650e-02,  1.0568e-02,  1.8426e-02,  6.2781e-03],\n",
              "        [ 6.0857e-01,  8.9434e-01,  4.1058e+00,  3.3380e+01,  4.2594e-03,\n",
              "          7.6942e-03,  8.9196e-03,  3.8497e-03,  7.9254e-03,  2.6594e-03,\n",
              "          1.7373e-02,  5.7429e-02,  1.4425e-01,  2.0419e+00,  2.8933e-04,\n",
              "          2.3760e-03,  2.8853e-03,  6.8591e-04,  9.2885e-04,  2.6955e-04,\n",
              "          6.9216e-01,  1.3035e+00,  4.8139e+00,  4.3076e+01,  6.1259e-03,\n",
              "          2.3021e-02,  2.8296e-02,  7.9425e-03,  1.3848e-02,  4.7183e-03],\n",
              "        [ 0.0000e+00,  0.0000e+00,  0.0000e+00,  0.0000e+00,  0.0000e+00,\n",
              "          0.0000e+00,  0.0000e+00,  0.0000e+00,  0.0000e+00,  0.0000e+00,\n",
              "          0.0000e+00,  0.0000e+00,  0.0000e+00,  0.0000e+00,  0.0000e+00,\n",
              "          0.0000e+00,  0.0000e+00,  0.0000e+00,  0.0000e+00,  0.0000e+00,\n",
              "          0.0000e+00,  0.0000e+00,  0.0000e+00,  0.0000e+00,  0.0000e+00,\n",
              "          0.0000e+00,  0.0000e+00,  0.0000e+00,  0.0000e+00,  0.0000e+00],\n",
              "        [ 3.2128e-01,  4.7214e-01,  2.1675e+00,  1.7622e+01,  2.2486e-03,\n",
              "          4.0619e-03,  4.7089e-03,  2.0323e-03,  4.1840e-03,  1.4039e-03,\n",
              "          9.1716e-03,  3.0318e-02,  7.6151e-02,  1.0780e+00,  1.5274e-04,\n",
              "          1.2543e-03,  1.5232e-03,  3.6211e-04,  4.9036e-04,  1.4230e-04,\n",
              "          3.6540e-01,  6.8813e-01,  2.5414e+00,  2.2741e+01,  3.2340e-03,\n",
              "          1.2153e-02,  1.4938e-02,  4.1930e-03,  7.3108e-03,  2.4909e-03],\n",
              "        [ 1.3850e-01,  2.0353e-01,  9.3439e-01,  7.5966e+00,  9.6935e-04,\n",
              "          1.7510e-03,  2.0299e-03,  8.7610e-04,  1.8037e-03,  6.0522e-04,\n",
              "          3.9537e-03,  1.3070e-02,  3.2827e-02,  4.6469e-01,  6.5846e-05,\n",
              "          5.4072e-04,  6.5663e-04,  1.5610e-04,  2.1139e-04,  6.1342e-05,\n",
              "          1.5752e-01,  2.9664e-01,  1.0955e+00,  9.8032e+00,  1.3941e-03,\n",
              "          5.2390e-03,  6.4395e-03,  1.8075e-03,  3.1516e-03,  1.0738e-03],\n",
              "        [-1.4619e+00, -2.1483e+00, -9.8625e+00, -8.0182e+01, -1.0232e-02,\n",
              "         -1.8482e-02, -2.1426e-02, -9.2473e-03, -1.9038e-02, -6.3881e-03,\n",
              "         -4.1732e-02, -1.3795e-01, -3.4649e-01, -4.9048e+00, -6.9501e-04,\n",
              "         -5.7074e-03, -6.9308e-03, -1.6476e-03, -2.2312e-03, -6.4747e-04,\n",
              "         -1.6626e+00, -3.1311e+00, -1.1564e+01, -1.0347e+02, -1.4715e-02,\n",
              "         -5.5298e-02, -6.7970e-02, -1.9079e-02, -3.3265e-02, -1.1334e-02]])"
            ]
          },
          "metadata": {},
          "execution_count": 69
        }
      ]
    },
    {
      "cell_type": "code",
      "source": [
        "# Step 5\n",
        "optimizer.step() # パラメータの更新"
      ],
      "metadata": {
        "id": "tWBsfUmFmwW1"
      },
      "execution_count": null,
      "outputs": []
    },
    {
      "cell_type": "code",
      "source": [
        "net.fc1.weight"
      ],
      "metadata": {
        "colab": {
          "base_uri": "https://localhost:8080/"
        },
        "id": "wXEUZ4s9nVq8",
        "outputId": "a3c00736-65dc-4017-c5ed-11a85de861f4"
      },
      "execution_count": null,
      "outputs": [
        {
          "output_type": "execute_result",
          "data": {
            "text/plain": [
              "Parameter containing:\n",
              "tensor([[-2.4745e-02,  6.3585e-02, -3.0799e-01, -1.4166e+00, -7.0483e-02,\n",
              "          4.8663e-02, -3.9600e-03,  1.4461e-01, -1.6507e-02,  4.8209e-02,\n",
              "         -5.5844e-02, -3.8094e-02, -1.7996e-01, -1.9935e-01, -7.5272e-02,\n",
              "          6.6719e-03,  7.2067e-02,  1.0952e-01, -1.2381e-01, -7.9515e-02,\n",
              "          3.9725e-02,  1.0154e-01, -2.2250e-01, -1.5181e+00, -2.9663e-02,\n",
              "          1.8435e-02,  1.6423e-01, -1.6967e-01, -1.1547e-01, -4.6403e-02],\n",
              "        [-7.1167e-02,  1.5774e-01, -1.1834e-01, -8.4045e-02, -1.2755e-01,\n",
              "         -1.7099e-01, -1.0658e-01,  1.5694e-01,  8.1468e-02,  8.8489e-02,\n",
              "          9.6019e-03, -9.3603e-02,  3.0889e-02, -1.7047e-01, -1.3192e-01,\n",
              "         -9.4122e-02,  1.1519e-01,  1.0705e-01, -8.0971e-02, -6.5877e-03,\n",
              "          1.1677e-01,  1.8150e-01,  7.2460e-02,  2.4664e-02,  1.2241e-01,\n",
              "         -1.0750e-01,  3.4022e-02, -1.4155e-01, -1.2654e-01, -9.4315e-02],\n",
              "        [ 8.2610e-02,  7.3424e-02, -1.0815e-01,  5.5157e-02,  1.0023e-01,\n",
              "         -2.3044e-02,  6.9710e-03,  4.2303e-02,  1.1326e-01,  1.7531e-01,\n",
              "         -1.4070e-01, -6.6908e-02,  7.1753e-02,  1.5127e-01,  1.5888e-01,\n",
              "          1.6110e-01,  3.6335e-02, -1.5876e-01,  1.6795e-02, -1.1422e-01,\n",
              "         -1.7015e-01,  1.6222e-01,  1.3882e-01, -1.8212e-01,  3.4173e-02,\n",
              "         -3.0756e-02, -3.0045e-02, -8.3575e-02,  7.0210e-02, -1.0814e-01],\n",
              "        [ 5.5453e-02,  7.5463e-02,  5.3270e-02, -5.6124e-01, -1.8078e-01,\n",
              "         -1.1858e-01,  9.0994e-02,  3.8140e-02, -1.4257e-01, -1.0518e-01,\n",
              "          1.7143e-01,  1.2194e-01, -8.2327e-02, -8.4459e-02, -1.7393e-01,\n",
              "         -3.3264e-03, -1.3754e-01, -1.4084e-01, -1.0077e-02,  2.7408e-02,\n",
              "         -8.7823e-02,  8.3753e-02, -2.0189e-01, -6.4670e-01,  1.2500e-01,\n",
              "         -1.5440e-01, -4.5973e-02,  8.0884e-03,  2.6377e-02,  4.3213e-02],\n",
              "        [ 6.3550e-02, -9.6378e-04, -1.4371e-01, -3.5776e-01, -1.7519e-01,\n",
              "         -1.0832e-01, -4.5822e-02, -8.8986e-02, -6.3976e-02, -1.4968e-01,\n",
              "         -3.9067e-02,  3.8262e-02, -1.2086e-01, -3.6539e-02,  1.3069e-01,\n",
              "         -1.8800e-02,  5.0357e-03, -1.5760e-02,  3.6937e-02,  1.1608e-01,\n",
              "          1.6373e-01,  9.8601e-02,  1.0928e-01, -5.8637e-01, -1.6409e-01,\n",
              "         -8.6861e-02,  1.2394e-01, -1.2892e-03, -9.0932e-02, -1.3997e-01],\n",
              "        [-1.7695e-01, -1.6304e-01, -7.8091e-02, -2.3368e-01,  9.8665e-02,\n",
              "         -1.7616e-01,  1.1380e-01, -1.4290e-01, -3.8677e-02, -7.4055e-02,\n",
              "         -3.5340e-02, -3.6421e-02, -1.6528e-01, -1.7806e-01, -2.8572e-02,\n",
              "          2.3373e-03, -8.2968e-02,  6.8769e-02, -1.6434e-01, -1.2324e-02,\n",
              "          1.5364e-01, -8.7505e-02,  1.1673e-01, -3.6464e-01, -1.6483e-01,\n",
              "          1.1528e-01, -2.1351e-02, -8.1582e-02,  1.4586e-01, -1.4758e-01],\n",
              "        [ 1.9591e-02, -3.8225e-02,  1.3038e-01,  5.0965e-02,  8.7728e-02,\n",
              "          6.4478e-02, -4.3904e-02, -3.8396e-02, -1.5046e-01,  9.8927e-02,\n",
              "          1.4496e-01,  1.2492e-01, -1.2878e-01,  8.1428e-03, -1.2870e-01,\n",
              "         -1.0050e-01, -1.0639e-01,  6.2394e-02, -1.0880e-01, -3.9833e-03,\n",
              "          7.6806e-03,  1.1769e-01, -1.3801e-01, -1.2534e-01, -1.0601e-01,\n",
              "          1.2779e-01, -6.5629e-02,  1.5400e-01,  6.6020e-02,  2.3119e-02],\n",
              "        [-4.5719e-03, -4.0813e-02,  1.2316e-03, -2.1791e-01, -1.3053e-03,\n",
              "          2.3255e-02, -1.4286e-01, -9.5713e-02,  1.4739e-01, -1.4818e-01,\n",
              "         -1.3202e-02,  1.8031e-01,  6.5191e-02, -5.6103e-03, -1.5822e-01,\n",
              "          9.0431e-02, -1.3006e-01, -5.1830e-02, -6.1262e-02, -2.7038e-02,\n",
              "         -1.6570e-03,  1.4371e-01, -2.6214e-03, -6.3877e-02,  1.1165e-01,\n",
              "         -1.1555e-01,  8.1736e-02, -1.2910e-01, -7.7453e-02,  5.3674e-02],\n",
              "        [ 5.8900e-02,  1.3494e-01, -6.8117e-02, -7.5673e-02,  9.3984e-02,\n",
              "         -1.7658e-01,  1.3198e-01, -1.5098e-01,  2.4983e-03, -3.1047e-02,\n",
              "         -9.6196e-02,  2.4000e-02,  1.5065e-01, -5.8017e-02, -1.0839e-01,\n",
              "         -6.7528e-02, -1.8096e-01,  8.2411e-02, -8.7686e-02, -1.2184e-01,\n",
              "         -1.0676e-01,  1.0201e-01,  8.5731e-02,  4.2098e-02,  6.6210e-02,\n",
              "         -6.1025e-02, -5.1084e-02,  5.3920e-02,  1.5005e-01,  4.9630e-02],\n",
              "        [-7.1766e-02, -6.4341e-02, -7.3993e-02,  8.4127e-01, -1.0236e-01,\n",
              "         -1.6259e-01,  1.6031e-01, -1.1847e-01, -2.0580e-02,  5.2370e-02,\n",
              "          6.2338e-03, -1.2147e-01, -1.4411e-01,  1.9457e-01,  2.9737e-02,\n",
              "          1.5153e-01, -6.1137e-02,  5.3795e-02, -4.1728e-02, -8.1128e-03,\n",
              "         -9.4569e-02,  9.3058e-02,  1.7336e-01,  1.0310e+00, -4.0914e-02,\n",
              "         -1.1199e-01,  1.2694e-01, -1.3572e-01,  7.5127e-02, -6.1278e-02]],\n",
              "       requires_grad=True)"
            ]
          },
          "metadata": {},
          "execution_count": 71
        }
      ]
    },
    {
      "cell_type": "code",
      "source": [
        "torch.cuda.is_available()"
      ],
      "metadata": {
        "colab": {
          "base_uri": "https://localhost:8080/"
        },
        "id": "CpeyNc9IoRK2",
        "outputId": "47aba451-c935-4778-fe44-f1a546cb1201"
      },
      "execution_count": null,
      "outputs": [
        {
          "output_type": "execute_result",
          "data": {
            "text/plain": [
              "True"
            ]
          },
          "metadata": {},
          "execution_count": 73
        }
      ]
    },
    {
      "cell_type": "code",
      "source": [
        "device = torch.device(\"cuda:0\" if torch.cuda.is_available() else \"cpu\")\n",
        "device"
      ],
      "metadata": {
        "colab": {
          "base_uri": "https://localhost:8080/"
        },
        "id": "8SFAVqZTobdZ",
        "outputId": "c8dea0f9-54ea-41d8-a8a7-b8d812b151f7"
      },
      "execution_count": null,
      "outputs": [
        {
          "output_type": "execute_result",
          "data": {
            "text/plain": [
              "device(type='cuda', index=0)"
            ]
          },
          "metadata": {},
          "execution_count": 74
        }
      ]
    },
    {
      "cell_type": "code",
      "source": [
        "# 指定したデバイスへネットワークの転送\n",
        "net.to(device)"
      ],
      "metadata": {
        "colab": {
          "base_uri": "https://localhost:8080/"
        },
        "id": "AdLOF_e7o0dR",
        "outputId": "2899848b-f57e-439e-ec02-d8fbd866c3d4"
      },
      "execution_count": null,
      "outputs": [
        {
          "output_type": "execute_result",
          "data": {
            "text/plain": [
              "Net(\n",
              "  (fc1): Linear(in_features=30, out_features=10, bias=True)\n",
              "  (fc2): Linear(in_features=10, out_features=2, bias=True)\n",
              ")"
            ]
          },
          "metadata": {},
          "execution_count": 75
        }
      ]
    },
    {
      "cell_type": "code",
      "source": [
        "x = x.to(device)\n",
        "y = y.to(device)"
      ],
      "metadata": {
        "id": "X_qI7nsXpB-q"
      },
      "execution_count": null,
      "outputs": []
    },
    {
      "cell_type": "code",
      "source": [
        "y = net(x)\n",
        "y"
      ],
      "metadata": {
        "colab": {
          "base_uri": "https://localhost:8080/"
        },
        "id": "lq822-fypMWu",
        "outputId": "6b6eea9a-0084-468a-8f60-50f393495f1c"
      },
      "execution_count": null,
      "outputs": [
        {
          "output_type": "execute_result",
          "data": {
            "text/plain": [
              "tensor([[ 148.3002, -284.6127],\n",
              "        [ 163.9481, -312.1373],\n",
              "        [ 493.4534, -945.2295],\n",
              "        [ 430.1196, -824.0096],\n",
              "        [ 185.5045, -355.8210],\n",
              "        [ 170.7496, -327.5804],\n",
              "        [ 187.2742, -359.2082],\n",
              "        [ 145.2411, -278.7576],\n",
              "        [ 156.5140, -300.3338],\n",
              "        [ 121.6984, -232.1702]], device='cuda:0', grad_fn=<AddmmBackward0>)"
            ]
          },
          "metadata": {},
          "execution_count": 77
        }
      ]
    },
    {
      "cell_type": "markdown",
      "source": [
        "### 6. ネットワークを訓練"
      ],
      "metadata": {
        "id": "-j8wcnhrpuXM"
      }
    },
    {
      "cell_type": "code",
      "source": [
        "# エポック数\n",
        "max_epoch = 1 # 1 epoch = 34 iteration * 10 batch"
      ],
      "metadata": {
        "id": "J8Cz8algpy8s"
      },
      "execution_count": null,
      "outputs": []
    },
    {
      "cell_type": "code",
      "source": [
        "torch.manual_seed(0)\n",
        "net = Net().to(device)"
      ],
      "metadata": {
        "id": "1ivmQrrlqvnx"
      },
      "execution_count": null,
      "outputs": []
    },
    {
      "cell_type": "code",
      "source": [
        "# 最適化手法の選択\n",
        "optimizer = torch.optim.SGD(net.parameters(), lr=0.1)"
      ],
      "metadata": {
        "id": "A-lUksAiq-w0"
      },
      "execution_count": null,
      "outputs": []
    },
    {
      "cell_type": "code",
      "source": [
        "# 訓練のループ\n",
        "for epoch in range(max_epoch):\n",
        "  for batch in train_loader:\n",
        "      # Step 1\n",
        "      x, t = batch\n",
        "      x = x.to(device)\n",
        "      t = t.to(device)\n",
        "      # Step 2\n",
        "      y = net(x)\n",
        "      # Step 3\n",
        "      loss = F.cross_entropy(y, t)\n",
        "      print(f'loss: {loss}')\n",
        "      # Step 4\n",
        "      optimizer.zero_grad()\n",
        "      loss.backward()\n",
        "      # Step 5\n",
        "      optimizer.step()"
      ],
      "metadata": {
        "colab": {
          "base_uri": "https://localhost:8080/"
        },
        "id": "jMYK8p6YrFOl",
        "outputId": "356d3f9b-7b09-4e74-a2ad-ddc2a71d7d05"
      },
      "execution_count": null,
      "outputs": [
        {
          "output_type": "stream",
          "name": "stdout",
          "text": [
            "loss: 33.399085998535156\n",
            "loss: 15349.416015625\n",
            "loss: 0.693260669708252\n",
            "loss: 0.6789408326148987\n",
            "loss: 0.6570119261741638\n",
            "loss: 0.6791458129882812\n",
            "loss: 0.6593756675720215\n",
            "loss: 0.6770837306976318\n",
            "loss: 0.7460513710975647\n",
            "loss: 0.6792094111442566\n",
            "loss: 0.6213985681533813\n",
            "loss: 0.6232878565788269\n",
            "loss: 0.643330454826355\n",
            "loss: 0.7069395780563354\n",
            "loss: 0.6739681363105774\n",
            "loss: 0.7380276322364807\n",
            "loss: 0.6462857723236084\n",
            "loss: 0.6119552254676819\n",
            "loss: 0.7443729639053345\n",
            "loss: 0.6421698331832886\n",
            "loss: 0.5709103345870972\n",
            "loss: 0.7135142087936401\n",
            "loss: 0.7115662693977356\n",
            "loss: 0.7464044094085693\n",
            "loss: 0.5425654053688049\n",
            "loss: 0.714184045791626\n",
            "loss: 0.7121732831001282\n",
            "loss: 0.7475570440292358\n",
            "loss: 0.6736332178115845\n",
            "loss: 0.6735744476318359\n",
            "loss: 0.7075648307800293\n",
            "loss: 0.6738204956054688\n",
            "loss: 0.6737439632415771\n",
            "loss: 0.6405441761016846\n"
          ]
        }
      ]
    },
    {
      "cell_type": "markdown",
      "source": [
        "### 7. 評価指標の算出"
      ],
      "metadata": {
        "id": "M1ZwRAdNsMRF"
      }
    },
    {
      "cell_type": "code",
      "source": [
        "x, t = next(iter(train_loader))"
      ],
      "metadata": {
        "id": "15cfP4xEsJe1"
      },
      "execution_count": null,
      "outputs": []
    },
    {
      "cell_type": "code",
      "source": [
        "net.cpu()"
      ],
      "metadata": {
        "colab": {
          "base_uri": "https://localhost:8080/"
        },
        "id": "YJh-IBiupWAs",
        "outputId": "3e62fede-e0f4-4060-f970-64b02c43ff2f"
      },
      "execution_count": null,
      "outputs": [
        {
          "output_type": "execute_result",
          "data": {
            "text/plain": [
              "Net(\n",
              "  (fc1): Linear(in_features=30, out_features=10, bias=True)\n",
              "  (fc2): Linear(in_features=10, out_features=2, bias=True)\n",
              ")"
            ]
          },
          "metadata": {},
          "execution_count": 85
        }
      ]
    },
    {
      "cell_type": "code",
      "source": [
        "y = net(x)\n",
        "y"
      ],
      "metadata": {
        "colab": {
          "base_uri": "https://localhost:8080/"
        },
        "id": "ksqjoEo6sgpJ",
        "outputId": "1d2a609f-a098-4ede-c3f0-e27bfb61d403"
      },
      "execution_count": null,
      "outputs": [
        {
          "output_type": "execute_result",
          "data": {
            "text/plain": [
              "tensor([[-0.4444, -0.0895],\n",
              "        [-0.4444, -0.0895],\n",
              "        [-0.4444, -0.0895],\n",
              "        [-0.4444, -0.0895],\n",
              "        [-0.4444, -0.0895],\n",
              "        [-0.4444, -0.0895],\n",
              "        [-0.4444, -0.0895],\n",
              "        [-0.4444, -0.0895],\n",
              "        [-0.4444, -0.0895],\n",
              "        [-0.4444, -0.0895]], grad_fn=<AddmmBackward0>)"
            ]
          },
          "metadata": {},
          "execution_count": 86
        }
      ]
    },
    {
      "cell_type": "code",
      "source": [
        "t"
      ],
      "metadata": {
        "colab": {
          "base_uri": "https://localhost:8080/"
        },
        "id": "xyfDJMrXtezs",
        "outputId": "969792da-cf37-4849-b779-89a00dfbd336"
      },
      "execution_count": null,
      "outputs": [
        {
          "output_type": "execute_result",
          "data": {
            "text/plain": [
              "tensor([0, 1, 1, 0, 0, 1, 0, 0, 1, 0])"
            ]
          },
          "metadata": {},
          "execution_count": 87
        }
      ]
    },
    {
      "cell_type": "code",
      "source": [
        "# torch.argmax(F.softmax(y), dim=1)"
      ],
      "metadata": {
        "colab": {
          "base_uri": "https://localhost:8080/"
        },
        "id": "LymWilqduPR6",
        "outputId": "e9b06879-8a3d-49d1-8d31-2ac3ec802f1d"
      },
      "execution_count": null,
      "outputs": [
        {
          "output_type": "stream",
          "name": "stderr",
          "text": [
            "<ipython-input-90-f6a2b27dc2d6>:1: UserWarning: Implicit dimension choice for softmax has been deprecated. Change the call to include dim=X as an argument.\n",
            "  torch.argmax(F.softmax(y), dim=1)\n"
          ]
        },
        {
          "output_type": "execute_result",
          "data": {
            "text/plain": [
              "tensor([1, 1, 1, 1, 1, 1, 1, 1, 1, 1])"
            ]
          },
          "metadata": {},
          "execution_count": 90
        }
      ]
    },
    {
      "cell_type": "code",
      "source": [
        "y_label = torch.argmax(y, dim=1)\n",
        "y_label"
      ],
      "metadata": {
        "colab": {
          "base_uri": "https://localhost:8080/"
        },
        "id": "K5ykOr4OtjG9",
        "outputId": "7b9dd7f7-0b0c-4e7b-db9f-77ca7b208e6c"
      },
      "execution_count": null,
      "outputs": [
        {
          "output_type": "execute_result",
          "data": {
            "text/plain": [
              "tensor([1, 1, 1, 1, 1, 1, 1, 1, 1, 1])"
            ]
          },
          "metadata": {},
          "execution_count": 92
        }
      ]
    },
    {
      "cell_type": "code",
      "source": [
        "y_label == t"
      ],
      "metadata": {
        "colab": {
          "base_uri": "https://localhost:8080/"
        },
        "id": "3kWCicc-u1xc",
        "outputId": "437e5ad1-37ec-47c5-fb16-7a31bb671fa8"
      },
      "execution_count": null,
      "outputs": [
        {
          "output_type": "execute_result",
          "data": {
            "text/plain": [
              "tensor([False,  True,  True, False, False,  True, False, False,  True, False])"
            ]
          },
          "metadata": {},
          "execution_count": 94
        }
      ]
    },
    {
      "cell_type": "code",
      "source": [
        "(y_label == t).sum() / len(t)"
      ],
      "metadata": {
        "colab": {
          "base_uri": "https://localhost:8080/"
        },
        "id": "otmnd7HNvPie",
        "outputId": "929f033e-67a9-4c67-ac28-5baa66d63151"
      },
      "execution_count": null,
      "outputs": [
        {
          "output_type": "execute_result",
          "data": {
            "text/plain": [
              "tensor(0.4000)"
            ]
          },
          "metadata": {},
          "execution_count": 97
        }
      ]
    },
    {
      "cell_type": "markdown",
      "source": [
        "### 8. 正解率を追加"
      ],
      "metadata": {
        "id": "pindxQALvuPz"
      }
    },
    {
      "cell_type": "code",
      "source": [
        "# エポック数\n",
        "max_epoch = 1 # 1 epoch = 34 iteration * 10 batch\n",
        "net = Net().to(device)\n",
        "\n",
        "# 最適化手法の選択\n",
        "optimizer = torch.optim.SGD(net.parameters(), lr=0.1)"
      ],
      "metadata": {
        "id": "7s9wARPIvzzu"
      },
      "execution_count": null,
      "outputs": []
    },
    {
      "cell_type": "code",
      "source": [
        "# 訓練のループ\n",
        "for epoch in range(max_epoch):\n",
        "  for batch in train_loader:\n",
        "      # Step 1\n",
        "      x, t = batch\n",
        "      x = x.to(device)\n",
        "      t = t.to(device)\n",
        "\n",
        "      # Step 2\n",
        "      y = net(x)\n",
        "\n",
        "      # 正解率 (accuracy) を追加\n",
        "      y_label = torch.argmax(y, dim=1)\n",
        "      accuracy = (y_label == t).sum() / len(t)\n",
        "      print(f'accuracy: {accuracy:.2f}')\n",
        "\n",
        "      # Step 3\n",
        "      loss = F.cross_entropy(y, t)\n",
        "      # print(f'loss: {loss}')\n",
        "\n",
        "      # Step 4\n",
        "      optimizer.zero_grad()\n",
        "      loss.backward()\n",
        "\n",
        "      # Step 5\n",
        "      optimizer.step()"
      ],
      "metadata": {
        "colab": {
          "base_uri": "https://localhost:8080/"
        },
        "outputId": "2296d6c9-5a15-4ad1-ddb1-3a6ca2866930",
        "id": "VvlSwaKPvzzu"
      },
      "execution_count": null,
      "outputs": [
        {
          "output_type": "stream",
          "name": "stdout",
          "text": [
            "accuracy: 0.30\n",
            "accuracy: 0.70\n",
            "accuracy: 0.60\n",
            "accuracy: 0.80\n",
            "accuracy: 0.70\n",
            "accuracy: 0.60\n",
            "accuracy: 0.80\n",
            "accuracy: 0.70\n",
            "accuracy: 0.60\n",
            "accuracy: 0.60\n",
            "accuracy: 0.60\n",
            "accuracy: 0.60\n",
            "accuracy: 0.50\n",
            "accuracy: 0.20\n",
            "accuracy: 0.80\n",
            "accuracy: 0.30\n",
            "accuracy: 0.60\n",
            "accuracy: 0.50\n",
            "accuracy: 0.70\n",
            "accuracy: 0.80\n",
            "accuracy: 0.90\n",
            "accuracy: 0.80\n",
            "accuracy: 0.20\n",
            "accuracy: 0.70\n",
            "accuracy: 0.60\n",
            "accuracy: 0.70\n",
            "accuracy: 0.50\n",
            "accuracy: 0.80\n",
            "accuracy: 0.80\n",
            "accuracy: 0.20\n",
            "accuracy: 0.60\n",
            "accuracy: 0.70\n",
            "accuracy: 0.70\n",
            "accuracy: 0.50\n"
          ]
        }
      ]
    },
    {
      "cell_type": "markdown",
      "source": [
        "### 9. 訓練後の正解率を検証\n",
        "with torch.no_grad # 訓練しない → 勾配の計算が不要なため"
      ],
      "metadata": {
        "id": "7doioSyEw2Ys"
      }
    },
    {
      "cell_type": "code",
      "source": [
        "# val_loader\n",
        "def calc_accuracy(data_loader):\n",
        "  with torch.no_grad():\n",
        "    total = 0\n",
        "    correct = 0.0\n",
        "\n",
        "    for batch in data_loader:\n",
        "      x, t = batch\n",
        "      x = x.to(device)\n",
        "      t = t.to(device)\n",
        "      y = net(x)\n",
        "\n",
        "      y_label = torch.argmax(y, dim=1)\n",
        "      total += len(y)\n",
        "      correct += (y_label == t).sum()\n",
        "\n",
        "    accuracy = correct / total\n",
        "  return accuracy"
      ],
      "metadata": {
        "id": "mVJ6tft5w7i5"
      },
      "execution_count": null,
      "outputs": []
    },
    {
      "cell_type": "code",
      "source": [
        "calc_accuracy(val_loader)"
      ],
      "metadata": {
        "colab": {
          "base_uri": "https://localhost:8080/"
        },
        "id": "Xq0LvQzFzVta",
        "outputId": "640c307a-6ded-42a8-f557-4837cfb806af"
      },
      "execution_count": null,
      "outputs": [
        {
          "output_type": "execute_result",
          "data": {
            "text/plain": [
              "tensor(0.6637, device='cuda:0')"
            ]
          },
          "metadata": {},
          "execution_count": 109
        }
      ]
    },
    {
      "cell_type": "code",
      "source": [
        "calc_accuracy(test_loader)"
      ],
      "metadata": {
        "colab": {
          "base_uri": "https://localhost:8080/"
        },
        "id": "NnRVorkSzZQG",
        "outputId": "d9686986-fba4-4eb7-a5c4-84dc0af0fe95"
      },
      "execution_count": null,
      "outputs": [
        {
          "output_type": "execute_result",
          "data": {
            "text/plain": [
              "tensor(0.6087, device='cuda:0')"
            ]
          },
          "metadata": {},
          "execution_count": 110
        }
      ]
    }
  ]
}